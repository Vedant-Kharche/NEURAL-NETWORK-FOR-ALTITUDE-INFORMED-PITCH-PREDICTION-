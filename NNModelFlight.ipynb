{
 "cells": [
  {
   "cell_type": "markdown",
   "id": "da9f4131-9ce4-4ba6-a339-57f171f0e211",
   "metadata": {},
   "source": [
    "Neural Network for Altitude-Informed Pitch Prediction "
   ]
  },
  {
   "cell_type": "code",
   "execution_count": 289,
   "id": "ccca81e1-ed54-495a-8ff3-19bde6723f43",
   "metadata": {},
   "outputs": [],
   "source": [
    "import pandas as pd\n",
    "import numpy as np\n",
    "from sklearn.model_selection import train_test_split\n",
    "from sklearn.preprocessing import MinMaxScaler, StandardScaler\n",
    "import matplotlib.pyplot as plt\n",
    "import random\n",
    "import sys\n",
    "import csv"
   ]
  },
  {
   "cell_type": "code",
   "execution_count": 347,
   "id": "183026dc-5b72-47d3-91e0-39e7b4ad26d6",
   "metadata": {},
   "outputs": [],
   "source": [
    "with open('input_fl_12477', 'r') as file:\n",
    "    content = file.readlines()\n",
    "\n",
    "headers = content[0].split()\n",
    "data = [line.split() for line in content[1:]]\n",
    "\n",
    "\n",
    "selected_columns = ['altitude', 'indicated_airspeed', 'pitch', 'roll']\n",
    "target_column = 'pitch'\n",
    "\n",
    "\n",
    "indices = [headers.index(col) for col in selected_columns]\n",
    "target_index = headers.index(target_column)\n",
    "\n",
    "\n",
    "with open('output.csv', 'w', newline='') as csvfile:\n",
    "    writer = csv.writer(csvfile)\n",
    "    \n",
    "    \n",
    "    writer.writerow(selected_columns + [target_column])\n",
    "    \n",
    "    \n",
    "    for row in data:\n",
    "        input_features = [row[i] for i in indices]\n",
    "        target = row[target_index]\n",
    "        writer.writerow(input_features + [target])"
   ]
  },
  {
   "cell_type": "code",
   "execution_count": 291,
   "id": "d54ee9f6-f35a-4e70-9de0-3a12c1695832",
   "metadata": {},
   "outputs": [
    {
     "name": "stdout",
     "output_type": "stream",
     "text": [
      "   altitude  indicated_airspeed  pitch  roll  pitch.1\n",
      "0     848.8                 0.0   2.40  0.46     2.40\n",
      "1     851.2                 0.0   2.40  0.46     2.40\n",
      "2     854.2                 0.0   2.36  0.45     2.36\n",
      "3     853.1                 0.0   2.41  0.47     2.41\n",
      "4     853.0                 0.0   2.42  0.47     2.42\n",
      "(5403, 5)\n"
     ]
    }
   ],
   "source": [
    "Original_df = pd.read_csv(\"output.csv\")\n",
    "\n",
    "print(Original_df.head())\n",
    "print(Original_df.shape)"
   ]
  },
  {
   "cell_type": "code",
   "execution_count": 292,
   "id": "1e8049c2-e051-41dc-9333-1ef462ec70ef",
   "metadata": {},
   "outputs": [
    {
     "name": "stdout",
     "output_type": "stream",
     "text": [
      "   altitude  indicated_airspeed  pitch  roll\n",
      "0     848.8                 0.0   2.40  0.46\n",
      "1     851.2                 0.0   2.40  0.46\n",
      "2     854.2                 0.0   2.36  0.45\n",
      "3     853.1                 0.0   2.41  0.47\n",
      "4     853.0                 0.0   2.42  0.47\n",
      "(5403, 4)\n"
     ]
    }
   ],
   "source": [
    "column_name = 'pitch.1'  \n",
    "Original_df = Original_df.drop(columns=[column_name])\n",
    "\n",
    "print(Original_df.head())\n",
    "print(Original_df.shape)"
   ]
  },
  {
   "cell_type": "code",
   "execution_count": 293,
   "id": "11afcda6-7814-4854-b21b-1dd87d72fced",
   "metadata": {},
   "outputs": [
    {
     "name": "stdout",
     "output_type": "stream",
     "text": [
      "altitude              0\n",
      "indicated_airspeed    0\n",
      "pitch                 0\n",
      "roll                  0\n",
      "dtype: int64\n"
     ]
    }
   ],
   "source": [
    "print(Original_df.isnull().sum())"
   ]
  },
  {
   "cell_type": "code",
   "execution_count": 294,
   "id": "b53eed55-3707-439f-9875-a274d23aa97d",
   "metadata": {},
   "outputs": [
    {
     "name": "stdout",
     "output_type": "stream",
     "text": [
      "5\n"
     ]
    }
   ],
   "source": [
    "print(Original_df.duplicated().sum())"
   ]
  },
  {
   "cell_type": "code",
   "execution_count": 295,
   "id": "c1d78d0b-0665-4b21-9561-ee4001b0052f",
   "metadata": {},
   "outputs": [],
   "source": [
    "Original_df.drop_duplicates(inplace=True)"
   ]
  },
  {
   "cell_type": "code",
   "execution_count": 296,
   "id": "2766f8a6-8b96-4f09-bdad-e2e9be2a1bd0",
   "metadata": {},
   "outputs": [
    {
     "name": "stdout",
     "output_type": "stream",
     "text": [
      "0\n"
     ]
    }
   ],
   "source": [
    "print(Original_df.duplicated().sum())"
   ]
  },
  {
   "cell_type": "code",
   "execution_count": 297,
   "id": "fe431da8-3f7e-4ebe-8ee0-6fcb01657b24",
   "metadata": {},
   "outputs": [],
   "source": [
    "df=Original_df"
   ]
  },
  {
   "cell_type": "code",
   "execution_count": 298,
   "id": "1295512a-4a68-43dd-9c12-c23d4f63afa3",
   "metadata": {},
   "outputs": [
    {
     "name": "stdout",
     "output_type": "stream",
     "text": [
      "   altitude  indicated_airspeed  pitch  roll\n",
      "0     848.8                 0.0   2.40  0.46\n",
      "1     851.2                 0.0   2.40  0.46\n",
      "2     854.2                 0.0   2.36  0.45\n",
      "3     853.1                 0.0   2.41  0.47\n",
      "4     853.0                 0.0   2.42  0.47\n"
     ]
    }
   ],
   "source": [
    "print(Original_df.head())"
   ]
  },
  {
   "cell_type": "code",
   "execution_count": 299,
   "id": "1d458adb-2970-48ad-afeb-c45d849474d6",
   "metadata": {},
   "outputs": [
    {
     "name": "stdout",
     "output_type": "stream",
     "text": [
      "   altitude  indicated_airspeed  pitch  roll\n",
      "0     848.8                 0.0   2.40  0.46\n",
      "1     851.2                 0.0   2.40  0.46\n",
      "2     854.2                 0.0   2.36  0.45\n",
      "3     853.1                 0.0   2.41  0.47\n",
      "4     853.0                 0.0   2.42  0.47\n"
     ]
    }
   ],
   "source": [
    "print(df.head())"
   ]
  },
  {
   "cell_type": "markdown",
   "id": "3bb1baed-1334-4808-9828-9f37b0950dd5",
   "metadata": {},
   "source": [
    "Scaling data\n"
   ]
  },
  {
   "cell_type": "code",
   "execution_count": 300,
   "id": "95389983-ba08-40b5-b783-54c2c4441ed3",
   "metadata": {},
   "outputs": [
    {
     "name": "stdout",
     "output_type": "stream",
     "text": [
      "   altitude  indicated_airspeed     pitch      roll\n",
      "0  0.004825            0.008994  0.400980  0.514426\n",
      "1  0.005587            0.008994  0.400980  0.514426\n",
      "2  0.006539            0.008994  0.399347  0.514262\n",
      "3  0.006190            0.008994  0.401388  0.514590\n",
      "4  0.006158            0.008994  0.401797  0.514590\n"
     ]
    }
   ],
   "source": [
    "scaler1 = MinMaxScaler()\n",
    "scaler2 = MinMaxScaler()\n",
    "\n",
    "scaled_df = df\n",
    "\n",
    "scaled_df[['altitude', 'indicated_airspeed','roll']] = scaler1.fit_transform(df[['altitude', 'indicated_airspeed','roll']])\n",
    "scaled_df['pitch'] = scaler2.fit_transform(np.array(df['pitch']).reshape(df['pitch'].shape[0], 1))\n",
    "\n",
    "\n",
    "print(scaled_df.head())"
   ]
  },
  {
   "cell_type": "code",
   "execution_count": 336,
   "id": "9f2fc128-400f-4174-a004-fee96308ee77",
   "metadata": {},
   "outputs": [],
   "source": [
    "X = scaled_df[['altitude', 'indicated_airspeed','roll','pitch']] # Features\n",
    "y = scaled_df['pitch']  # Target variable\n",
    "\n",
    "X_train, X_temp, y_train, y_temp = train_test_split(X, y, test_size=0.3, random_state=42)\n",
    "X_cv, X_test, y_cv, y_test = train_test_split(X_temp, y_temp, test_size=0.5, random_state=42)\n",
    "\n",
    "y_train, y_test = np.array(y_train).reshape(y_train.shape[0], 1), np.array(y_test).reshape(y_test.shape[0], 1)"
   ]
  },
  {
   "cell_type": "code",
   "execution_count": 337,
   "id": "74b9abfe-e62f-46d9-8ad4-c165e167526c",
   "metadata": {},
   "outputs": [],
   "source": [
    "# Print parameters to console\n",
    "def print_parameters(iterations, learning_rate, activation_function, training_type):\n",
    "    print(f\"Number of Iterations: {iterations}\")\n",
    "    print(f\"Learning Rate: {learning_rate}\")\n",
    "    print(f\"Activation Function: {activation_function}\")\n",
    "    print(f\"Training Type: {training_type}\")"
   ]
  },
  {
   "cell_type": "code",
   "execution_count": 338,
   "id": "38a65674-d7e9-4d77-bbe6-13948986218e",
   "metadata": {},
   "outputs": [],
   "source": [
    "# Plot the cost function per iteration\n",
    "def plot_cost_per_iteration(costs):\n",
    "    plt.plot(range(len(costs)), costs)\n",
    "    plt.xlabel('Iterations')\n",
    "    plt.ylabel('Cost')\n",
    "    plt.title('Cost Error per Iteration')\n",
    "    plt.savefig('cost_error_plot.png')\n",
    "    plt.show()"
   ]
  },
  {
   "cell_type": "markdown",
   "id": "f03489ec-06e9-4c39-8fcd-5fdf0e9501d5",
   "metadata": {},
   "source": [
    "Activation Functions "
   ]
  },
  {
   "cell_type": "code",
   "execution_count": 339,
   "id": "28e3b7b3-efd7-4c30-a2a7-1888b590beb6",
   "metadata": {},
   "outputs": [],
   "source": [
    "# Activation Functions\n",
    "def relu(z):\n",
    "    return np.maximum(0, z)\n",
    "\n",
    "def relu_derivative(z):\n",
    "    return np.where(z > 0, 1, 0)\n",
    "\n",
    "def sigmoid(z):\n",
    "    return 1 / (1 + np.exp(-z))\n",
    "\n",
    "def sigmoid_derivative(z):\n",
    "    return sigmoid(z) * (1 - sigmoid(z))\n",
    "\n",
    "def tanh(z):\n",
    "    return np.tanh(z)\n",
    "\n",
    "def tanh_derivative(z):\n",
    "    return 1 - np.tanh(z) ** 2"
   ]
  },
  {
   "cell_type": "markdown",
   "id": "82fa5787-736c-49bb-94f7-6d0b30633356",
   "metadata": {},
   "source": [
    "FORWARD PROPOGATION"
   ]
  },
  {
   "cell_type": "code",
   "execution_count": 340,
   "id": "a5f3ca7d-5665-4ce4-9756-500914e74561",
   "metadata": {},
   "outputs": [],
   "source": [
    "def forward_propagation(X, W1, b1, W2, b2, activation_function):\n",
    "    Z1 = np.dot(X, W1) + b1\n",
    "    if activation_function == 'relu':\n",
    "        A1 = relu(Z1)\n",
    "    elif activation_function == 'sigmoid':\n",
    "        A1 = sigmoid(Z1)\n",
    "    elif activation_function == 'tanh':\n",
    "        A1 = tanh(Z1)\n",
    "    Z2 = np.dot(A1, W2) + b2\n",
    "    A2 = Z2\n",
    "    return A1, A2"
   ]
  },
  {
   "cell_type": "markdown",
   "id": "e4224a9d-e652-44e0-bfc4-0f0db76db290",
   "metadata": {},
   "source": [
    "COST FUNCTION"
   ]
  },
  {
   "cell_type": "code",
   "execution_count": 341,
   "id": "742e24c6-99f0-43cd-8f7a-233d2c80f09b",
   "metadata": {},
   "outputs": [],
   "source": [
    "# Cost function (Mean Squared Error)\n",
    "def compute_cost(y_true, y_pred):\n",
    "    m = y_true.shape[0]\n",
    "    cost = (1 / (2 * m)) * np.sum((y_pred - y_true) ** 2)\n",
    "    return cost\n"
   ]
  },
  {
   "cell_type": "markdown",
   "id": "a26a827a-ba88-4b88-800d-9e27f16c6b4c",
   "metadata": {},
   "source": [
    "BACK PROPOGATION"
   ]
  },
  {
   "cell_type": "code",
   "execution_count": 342,
   "id": "2f6c357a-aec4-48af-af1b-e04765e81a84",
   "metadata": {},
   "outputs": [],
   "source": [
    "def backward_propagation(X, y, A1, A2, W2, activation_function):\n",
    "    m = X.shape[0]\n",
    "    dZ2 = A2 - y\n",
    "    dW2 = (1 / m) * np.dot(A1.T, dZ2)\n",
    "    db2 = (1 / m) * np.sum(dZ2, axis=0, keepdims=True)\n",
    "    if activation_function == 'relu':\n",
    "        dZ1 = np.dot(dZ2, W2.T) * relu_derivative(A1)\n",
    "    elif activation_function == 'sigmoid':\n",
    "        dZ1 = np.dot(dZ2, W2.T) * sigmoid_derivative(A1)\n",
    "    elif activation_function == 'tanh':\n",
    "        dZ1 = np.dot(dZ2, W2.T) * tanh_derivative(A1)\n",
    "    dW1 = (1 / m) * np.dot(X.T, dZ1)\n",
    "    db1 = (1 / m) * np.sum(dZ1, axis=0, keepdims=True)\n",
    "    return dW1, db1, dW2, db2"
   ]
  },
  {
   "cell_type": "code",
   "execution_count": 343,
   "id": "4b89e761-a73e-47f2-b047-010b76fee96f",
   "metadata": {},
   "outputs": [],
   "source": [
    "# Update parameters\n",
    "def update_parameters(W1, b1, W2, b2, dW1, db1, dW2, db2, learning_rate):\n",
    "    W1 -= learning_rate * dW1\n",
    "    b1 -= learning_rate * db1\n",
    "    W2 -= learning_rate * dW2\n",
    "    b2 -= learning_rate * db2\n",
    "    return W1, b1, W2, b2"
   ]
  },
  {
   "cell_type": "code",
   "execution_count": 348,
   "id": "e5d88cf6-8a11-489b-b762-d85873cf42be",
   "metadata": {},
   "outputs": [],
   "source": [
    "import numpy as np\n",
    "\n",
    "def train_neural_network(X_train, y_train, iterations, learning_rate, activation_function, training_type):\n",
    "    # Define model parameters\n",
    "    input_size = X_train.shape[1]\n",
    "    hidden_size = 10\n",
    "    output_size = 1\n",
    "    np.random.seed(42)\n",
    "    W1 = np.random.randn(input_size, hidden_size)\n",
    "    b1 = np.zeros((1, hidden_size))\n",
    "    W2 = np.random.randn(hidden_size, output_size)\n",
    "    b2 = np.zeros((1, output_size))\n",
    "    costs = []\n",
    "\n",
    "    log_file = open(f'NNTraining[{iterations}][{learning_rate}]MSE.log', 'w')\n",
    "\n",
    "    # Train the neural network based on selected training method\n",
    "    if training_type == 'stochastic':\n",
    "        # Stochastic training\n",
    "\n",
    "        for i in range(iterations):\n",
    "            cost_sum = 0\n",
    "            for j in range(X_train.shape[0]):\n",
    "                x = X_train[j:j+1]  \n",
    "                y = y_train[j:j+1]\n",
    "                a1, a2 = forward_propagation(x, W1, b1, W2, b2, activation_function)\n",
    "                cost = compute_cost(y, a2)\n",
    "                cost_sum += cost\n",
    "                dW1, db1, dW2, db2 = backward_propagation(x, y, a1, a2, W2, activation_function)\n",
    "                W1, b1, W2, b2 = update_parameters(W1, b1, W2, b2, dW1, db1, dW2, db2, learning_rate)\n",
    "            \n",
    "            average_cost = cost_sum / X_train.shape[0]\n",
    "            log_file.write(f\"Iteration {i+1}: MSE = {average_cost}\\n\")\n",
    "            if i != 0 and i != 1 and average_cost > costs[-1] - costs[-1]/50:\n",
    "                print(\"training stopped at iteration\", i)\n",
    "                break\n",
    "            costs.append(average_cost)\n",
    "\n",
    "    \n",
    "    elif training_type == 'batch':\n",
    "        # Batch training\n",
    "\n",
    "        for i in range(iterations):\n",
    "            A1, A2 = forward_propagation(X_train, W1, b1, W2, b2, activation_function)\n",
    "            cost = compute_cost(y_train, A2)\n",
    "            log_file.write(f\"Iteration {i+1}: MSE = {cost}\\n\")\n",
    "            if i != 0 and i != 1 and cost > costs[-1] - costs[-1]/500:\n",
    "                print(\"training stopped at iteration\", i)\n",
    "                break\n",
    "\n",
    "        \n",
    "            costs.append(cost)\n",
    "            \n",
    "            dW1, db1, dW2, db2 = backward_propagation(X_train, y_train, A1, A2, W2, activation_function)\n",
    "            W1, b1, W2, b2 = update_parameters(W1, b1, W2, b2, dW1, db1, dW2, db2, learning_rate)\n",
    "\n",
    "    else:\n",
    "      print('Mistake in choosing parameter')\n",
    "      cost=0\n",
    "\n",
    "    log_file.close()\n",
    "    final_cost = costs[-1] if costs else None\n",
    "    with open(\"NNModelParameters.log\", \"w\") as file:\n",
    "     file.write(f\"Learning Rate: {learning_rate}\\n\")\n",
    "     file.write(f\"Number of Iterations: {iterations}\\n\")\n",
    "     file.write(f\"Activation Function: {activation_function}\\n\")\n",
    "     file.write(f\"Training Type: {training_type}\\n\")   \n",
    "     file.write(f\"Final Error: {cost}\\n\")\n",
    "     file.write(\"Neural Network Structure:\\n\")\n",
    "     file.write(f\"Input Layer: {input_size} nodes\\n\")\n",
    "     file.write(f\"Hidden Layer: {hidden_size} nodes\\n\")\n",
    "     file.write(f\"Output Layer: {output_size} nodes\\n\")\n",
    "     file.write(\"Final Weights:\\n\")\n",
    "     file.write(f\"W1:\\n{W1}\\n\")\n",
    "     file.write(f\"b1:\\n{b1}\\n\")\n",
    "     file.write(f\"W2:\\n{W2}\\n\")\n",
    "     file.write(f\"b2:\\n{b2}\\n\")\n",
    "        \n",
    "    return costs\n"
   ]
  },
  {
   "cell_type": "code",
   "execution_count": 349,
   "id": "2463c582-f96f-4ae2-966a-e4ce4597fa74",
   "metadata": {},
   "outputs": [],
   "source": [
    "def train_neural_network_user_input(X_train, y_train):\n",
    "    # User input\n",
    "    iterations = int(input(\"Enter the number of iterations: \"))\n",
    "    learning_rate = float(input(\"Enter the learning rate: \"))\n",
    "    activation_function = input(\"Enter the activation function (relu, sigmoid, tanh): \")\n",
    "    training_type = input(\"Enter the training type (stochastic or batch): \")\n",
    "\n",
    "    print(\"\\nSelected parameters:\")\n",
    "    print_parameters(iterations, learning_rate, activation_function, training_type)\n",
    "    \n",
    "    # Train the neural network based on user input\n",
    "    cost1 = train_neural_network(X_train, y_train, iterations, learning_rate, activation_function, training_type)\n",
    "    plot_cost_per_iteration(cost1)\n",
    "    \n",
    "    return cost1\n",
    "\n"
   ]
  },
  {
   "cell_type": "code",
   "execution_count": 350,
   "id": "3cc95242-082a-44ff-bdec-54b01f647044",
   "metadata": {},
   "outputs": [
    {
     "name": "stdin",
     "output_type": "stream",
     "text": [
      "Enter the number of iterations:  1000\n",
      "Enter the learning rate:  0.01\n",
      "Enter the activation function (relu, sigmoid, tanh):  relu\n",
      "Enter the training type (stochastic or batch):  batch\n"
     ]
    },
    {
     "name": "stdout",
     "output_type": "stream",
     "text": [
      "\n",
      "Selected parameters:\n",
      "Number of Iterations: 1000\n",
      "Learning Rate: 0.01\n",
      "Activation Function: relu\n",
      "Training Type: batch\n",
      "training stopped at iteration 469\n"
     ]
    },
    {
     "data": {
      "image/png": "[encoded data removed]",
      "text/plain": [
       "<Figure size 640x480 with 1 Axes>"
      ]
     },
     "metadata": {},
     "output_type": "display_data"
    }
   ],
   "source": [
    "costarrary=train_neural_network_user_input(X_train, y_train)"
   ]
  },
  {
   "cell_type": "code",
   "execution_count": null,
   "id": "28b6931a-c4ef-4b5a-b21d-85765b944c8d",
   "metadata": {},
   "outputs": [],
   "source": []
  }
 ],
 "metadata": {
  "kernelspec": {
   "display_name": "Python 3 (ipykernel)",
   "language": "python",
   "name": "python3"
  },
  "language_info": {
   "codemirror_mode": {
    "name": "ipython",
    "version": 3
   },
   "file_extension": ".py",
   "mimetype": "text/x-python",
   "name": "python",
   "nbconvert_exporter": "python",
   "pygments_lexer": "ipython3",
   "version": "3.11.7"
  }
 },
 "nbformat": 4,
 "nbformat_minor": 5
}
